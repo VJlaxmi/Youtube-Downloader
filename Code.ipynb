{
 "cells": [
  {
   "cell_type": "code",
   "execution_count": 1,
   "id": "b7c99403",
   "metadata": {},
   "outputs": [],
   "source": [
    "#import the package\n",
    "from pytube import YouTube"
   ]
  },
  {
   "cell_type": "code",
   "execution_count": 2,
   "id": "62ef8989",
   "metadata": {},
   "outputs": [
    {
     "name": "stdout",
     "output_type": "stream",
     "text": [
      "link of YouTube video you want to download:  https://www.youtube.com/watch?v=rNUqLcVNjU4\n"
     ]
    }
   ],
   "source": [
    "#ask for the link from user\n",
    "link = input(\"link of YouTube video you want to download:  \")\n",
    "yt = YouTube(link)"
   ]
  },
  {
   "cell_type": "code",
   "execution_count": 3,
   "id": "5ebeecab",
   "metadata": {},
   "outputs": [
    {
     "name": "stdout",
     "output_type": "stream",
     "text": [
      "*********************Video Title************************\n",
      "ARCANO - BLANK SPACE (VIOLIN COVER)\n"
     ]
    }
   ],
   "source": [
    "print(\"*********************Video Title************************\")\n",
    "#get Video Title\n",
    "print(yt.title)"
   ]
  },
  {
   "cell_type": "code",
   "execution_count": 4,
   "id": "ed376872",
   "metadata": {},
   "outputs": [
    {
     "name": "stdout",
     "output_type": "stream",
     "text": [
      "********************Thumbnail Image***********************\n",
      "https://i.ytimg.com/vi/rNUqLcVNjU4/sddefault.jpg\n"
     ]
    }
   ],
   "source": [
    "print(\"********************Thumbnail Image***********************\")\n",
    "#get Thumbnail Image\n",
    "print(yt.thumbnail_url)"
   ]
  },
  {
   "cell_type": "code",
   "execution_count": 5,
   "id": "b8f23d4e",
   "metadata": {},
   "outputs": [
    {
     "data": {
      "text/plain": [
       "'D:\\\\Projects\\\\Youtube_Downloader\\\\ARCANO - BLANK SPACE (VIOLIN COVER).mp4'"
      ]
     },
     "execution_count": 5,
     "metadata": {},
     "output_type": "execute_result"
    }
   ],
   "source": [
    "#highest Resolution\n",
    "ys = yt.streams.get_highest_resolution()\n",
    "\n",
    "#download\n",
    "ys.download()"
   ]
  }
 ],
 "metadata": {
  "kernelspec": {
   "display_name": "Python 3 (ipykernel)",
   "language": "python",
   "name": "python3"
  },
  "language_info": {
   "codemirror_mode": {
    "name": "ipython",
    "version": 3
   },
   "file_extension": ".py",
   "mimetype": "text/x-python",
   "name": "python",
   "nbconvert_exporter": "python",
   "pygments_lexer": "ipython3",
   "version": "3.9.7"
  }
 },
 "nbformat": 4,
 "nbformat_minor": 5
}
